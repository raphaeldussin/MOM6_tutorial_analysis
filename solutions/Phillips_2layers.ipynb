{
 "cells": [
  {
   "cell_type": "markdown",
   "id": "496bd7fa-f5c0-4396-b96c-b9dbbd387bb7",
   "metadata": {
    "slideshow": {
     "slide_type": "slide"
    }
   },
   "source": [
    "# Phillips 2 layers model example"
   ]
  },
  {
   "cell_type": "code",
   "execution_count": null,
   "id": "38fab49d-ec18-46ab-aa88-2b8e0a577232",
   "metadata": {
    "slideshow": {
     "slide_type": "slide"
    }
   },
   "outputs": [],
   "source": [
    "# import modules\n",
    "from IPython import display\n",
    "import warnings\n",
    "import numpy as np\n",
    "import xarray as xr\n",
    "import matplotlib.pyplot as plt\n",
    "\n",
    "warnings.filterwarnings(\"ignore\")"
   ]
  },
  {
   "cell_type": "markdown",
   "id": "e3a2fe41-f623-4b85-ac7e-40d5079d1e58",
   "metadata": {
    "slideshow": {
     "slide_type": "slide"
    }
   },
   "source": [
    "## 0. Load the data from the previously run model:"
   ]
  },
  {
   "cell_type": "code",
   "execution_count": null,
   "id": "e5b718de-14e4-431a-994a-fd22b2f8223c",
   "metadata": {
    "slideshow": {
     "slide_type": "slide"
    }
   },
   "outputs": [],
   "source": [
    "phillips = \"~/MOM6-examples/ocean_only/Phillips_2layer\"\n",
    "\n",
    "# snapshots\n",
    "ds = xr.open_dataset(f\"{phillips}/prog.nc\")\n",
    "\n",
    "# initial conditions\n",
    "ic = xr.open_dataset(f\"{phillips}/MOM_IC.nc\")\n",
    "ic = ic.rename({\"lonh\": \"xh\", \"lath\": \"yh\",\n",
    "                \"lonq\": \"xq\", \"latq\": \"yq\",\n",
    "                \"Layer\": \"zl\",\n",
    "                \"Interface\": \"zi\"})"
   ]
  },
  {
   "cell_type": "code",
   "execution_count": null,
   "id": "b6770229-1178-4e1b-b3c4-6a6501427590",
   "metadata": {
    "slideshow": {
     "slide_type": "slide"
    }
   },
   "outputs": [],
   "source": [
    "# add grid metrics\n",
    "dsgrid = xr.open_dataset(f\"{phillips}/ocean_geometry.nc\")\n",
    "dsgrid = dsgrid.rename({\"lonh\": \"xh\", \"lath\": \"yh\",\n",
    "                        \"lonq\": \"xq\", \"latq\": \"yq\"})\n",
    "ds = xr.merge([ds, dsgrid])"
   ]
  },
  {
   "cell_type": "code",
   "execution_count": null,
   "id": "3870b8d9-2ea2-479b-ba36-34ecd36d7ecf",
   "metadata": {
    "slideshow": {
     "slide_type": "slide"
    }
   },
   "outputs": [],
   "source": [
    "ds"
   ]
  },
  {
   "cell_type": "markdown",
   "id": "74c2dfa3-ea0d-4e6c-96fb-d4e2c7ff8c94",
   "metadata": {
    "slideshow": {
     "slide_type": "slide"
    }
   },
   "source": [
    "## 1. Plot initial conditions"
   ]
  },
  {
   "cell_type": "code",
   "execution_count": null,
   "id": "8c4b815a-ae07-4ea6-8156-f2650e549c76",
   "metadata": {
    "slideshow": {
     "slide_type": "slide"
    }
   },
   "outputs": [],
   "source": [
    "ic"
   ]
  },
  {
   "cell_type": "markdown",
   "id": "2cc290bf-184e-4ec2-90b8-129486374043",
   "metadata": {
    "slideshow": {
     "slide_type": "slide"
    }
   },
   "source": [
    "Compute the zonal mean:"
   ]
  },
  {
   "cell_type": "code",
   "execution_count": null,
   "id": "823e82bb-dc86-4598-97ec-755c4d7ebc29",
   "metadata": {
    "slideshow": {
     "slide_type": "slide"
    }
   },
   "outputs": [],
   "source": [
    "ic_zonalmean = ic.mean(dim=[\"xh\", \"xq\"]).squeeze(dim=\"Time\")"
   ]
  },
  {
   "cell_type": "code",
   "execution_count": null,
   "id": "aff2d972-1bc0-4387-a986-b4a65437ea43",
   "metadata": {
    "slideshow": {
     "slide_type": "slide"
    }
   },
   "outputs": [],
   "source": [
    "# make 2d depth/lat latitude array \n",
    "ic_zonalmean[\"lat\"] = ic_zonalmean[\"yh\"].broadcast_like(ic_zonalmean[\"eta\"])"
   ]
  },
  {
   "cell_type": "code",
   "execution_count": null,
   "id": "15f826bc-a4e6-4491-a97e-26f0bc450c17",
   "metadata": {
    "slideshow": {
     "slide_type": "slide"
    }
   },
   "outputs": [],
   "source": [
    "plt.figure()\n",
    "ax=plt.axes()\n",
    "ic_zonalmean[\"eta\"].plot.line(ax=ax, x=\"yh\", color=\"k\")\n",
    "\n",
    "# using yh as coord, first u-point is out of bounds\n",
    "C = ax.pcolormesh(ic_zonalmean[\"lat\"].values,\n",
    "                  ic_zonalmean[\"eta\"].values,\n",
    "                  ic_zonalmean[\"u\"].values[:,1:],\n",
    "                  cmap=\"bwr\", vmin=-0.5, vmax=0.5)\n",
    "plt.colorbar(C)\n",
    "plt.plot()"
   ]
  },
  {
   "cell_type": "markdown",
   "id": "e82583aa-4e38-4ddb-98aa-ea37b6c4de2e",
   "metadata": {
    "slideshow": {
     "slide_type": "slide"
    }
   },
   "source": [
    "## 2. Grid-dependent diagnostics with xgcm\n",
    "\n",
    "\n",
    "https://xgcm.readthedocs.io/en/latest/"
   ]
  },
  {
   "cell_type": "markdown",
   "id": "c7cac94e-c0f4-4b2e-809c-81393855323a",
   "metadata": {
    "slideshow": {
     "slide_type": "slide"
    }
   },
   "source": [
    "Quick reminder: MOM6 is a C-grid model"
   ]
  },
  {
   "cell_type": "code",
   "execution_count": null,
   "id": "33aab8b8-dd98-4502-9e45-2c4b125822c2",
   "metadata": {
    "slideshow": {
     "slide_type": "slide"
    }
   },
   "outputs": [],
   "source": [
    "display.Image(\"https://mom6.readthedocs.io/en/main/_images/Arakawa_C_grid.png\")"
   ]
  },
  {
   "cell_type": "markdown",
   "id": "d9f71710-f0a6-4e9f-bac3-4fa84860beb0",
   "metadata": {
    "slideshow": {
     "slide_type": "slide"
    }
   },
   "source": [
    "The grid metrics are defined as:"
   ]
  },
  {
   "cell_type": "code",
   "execution_count": null,
   "id": "42e816e0-7da0-4a21-8c03-ddf1bc624c4e",
   "metadata": {
    "slideshow": {
     "slide_type": "slide"
    }
   },
   "outputs": [],
   "source": [
    "display.Image(\"https://mom6.readthedocs.io/en/main/_images/Grid_metrics.png\")"
   ]
  },
  {
   "cell_type": "markdown",
   "id": "7c079d9f-232d-4506-bb30-57062c482078",
   "metadata": {
    "slideshow": {
     "slide_type": "slide"
    }
   },
   "source": [
    "### 2.1 Defining a xgcm grid object"
   ]
  },
  {
   "cell_type": "code",
   "execution_count": null,
   "id": "c435333f-6da6-4e63-9d47-781f7031e1fb",
   "metadata": {
    "slideshow": {
     "slide_type": "slide"
    }
   },
   "outputs": [],
   "source": [
    "from xgcm import Grid\n",
    "\n",
    "xgrid = Grid(ds, coords={'X': {'center': 'xh', 'outer': 'xq'},\n",
    "                         'Y': {'center': 'yh', 'outer': 'yq'},\n",
    "                         'Z': {'center': 'zl', 'outer': 'zi'} },\n",
    "             periodic=['X'])"
   ]
  },
  {
   "cell_type": "markdown",
   "id": "8f648185-fea2-4469-8ce9-b6b9ac971119",
   "metadata": {
    "slideshow": {
     "slide_type": "slide"
    }
   },
   "source": [
    "### 2.2 Velocity at tracer-point"
   ]
  },
  {
   "cell_type": "code",
   "execution_count": null,
   "id": "cda40975-54d4-4ffe-a580-fba99cdd9cbe",
   "metadata": {
    "slideshow": {
     "slide_type": "slide"
    }
   },
   "outputs": [],
   "source": [
    "speed2 = (xgrid.interp(ds.u, \"X\", boundary=\"extend\")**2 +\n",
    "          xgrid.interp(ds.v, \"Y\", boundary=\"extend\")**2)"
   ]
  },
  {
   "cell_type": "code",
   "execution_count": null,
   "id": "884b8390-7418-415a-9705-1ae2fc7eeadc",
   "metadata": {
    "slideshow": {
     "slide_type": "slide"
    }
   },
   "outputs": [],
   "source": [
    "speed2"
   ]
  },
  {
   "cell_type": "code",
   "execution_count": null,
   "id": "64bb0891-0e28-422b-b39f-73c4a2c1e2b1",
   "metadata": {
    "slideshow": {
     "slide_type": "slide"
    }
   },
   "outputs": [],
   "source": [
    "speed2.sel(Time=\"0001-04-11\", zl=1031).plot(cmap=\"Reds\", vmin=0., vmax=2.)"
   ]
  },
  {
   "cell_type": "markdown",
   "id": "552062cc-e3b2-4aeb-bd0a-e7d567089095",
   "metadata": {
    "slideshow": {
     "slide_type": "slide"
    }
   },
   "source": [
    "### Exercice: how would you compute it on the vorticity (q) point?"
   ]
  },
  {
   "cell_type": "code",
   "execution_count": null,
   "id": "af66d974-4eca-45b0-8030-ae096e270005",
   "metadata": {
    "slideshow": {
     "slide_type": "slide"
    }
   },
   "outputs": [],
   "source": [
    "speed2_q = (xgrid.interp(ds.u, \"Y\", boundary=\"extend\")**2 +\n",
    "            xgrid.interp(ds.v, \"X\", boundary=\"extend\")**2)"
   ]
  },
  {
   "cell_type": "code",
   "execution_count": null,
   "id": "16288f31-8171-46e9-9916-3be4dc5ec599",
   "metadata": {
    "slideshow": {
     "slide_type": "slide"
    }
   },
   "outputs": [],
   "source": [
    "speed2_q"
   ]
  },
  {
   "cell_type": "code",
   "execution_count": null,
   "id": "324142c6-d185-4393-8261-46919e935c0b",
   "metadata": {
    "slideshow": {
     "slide_type": "slide"
    }
   },
   "outputs": [],
   "source": [
    "speed2_q.sel(Time=\"0001-04-11\", zl=1031).plot(cmap=\"Reds\")"
   ]
  },
  {
   "cell_type": "markdown",
   "id": "c70db790-1341-47e5-9606-8ba27e1b5c3f",
   "metadata": {
    "slideshow": {
     "slide_type": "slide"
    }
   },
   "source": [
    "### 2.3 Relative vorticity"
   ]
  },
  {
   "cell_type": "markdown",
   "id": "bc715075-5569-430a-bd79-4ab6be8e2e6e",
   "metadata": {
    "slideshow": {
     "slide_type": "slide"
    }
   },
   "source": [
    "$$\\zeta = \\dfrac{\\partial v}{\\partial x} - \\dfrac{\\partial u}{\\partial y} $$"
   ]
  },
  {
   "cell_type": "code",
   "execution_count": null,
   "id": "617c0b3c-6c90-4cec-bdd4-e91556849688",
   "metadata": {
    "slideshow": {
     "slide_type": "slide"
    }
   },
   "outputs": [],
   "source": [
    "rel_vort = ((xgrid.diff(ds.v, 'X', boundary='extend') / ds.dxBu) -\n",
    "            (xgrid.diff(ds.u, 'Y', boundary='extend') / ds.dyBu))"
   ]
  },
  {
   "cell_type": "code",
   "execution_count": null,
   "id": "b54f7971-9366-4701-9482-d8890e436c7e",
   "metadata": {
    "slideshow": {
     "slide_type": "slide"
    }
   },
   "outputs": [],
   "source": [
    "fig, axs = plt.subplots(ncols=2,figsize=[8,4])\n",
    "rel_vort.isel(Time=-1, zl=0).plot(ax=axs[0], add_labels=False)\n",
    "ds[\"RV\"].isel(Time=-1, zl=0).plot(ax=axs[1], add_labels=False)\n",
    "axs[0].set_title(\"$\\zeta$ xgcm\")\n",
    "axs[1].set_title(\"$\\zeta$ model\")"
   ]
  },
  {
   "cell_type": "markdown",
   "id": "c6d7084c-b66e-4523-bdac-27f10674a114",
   "metadata": {
    "slideshow": {
     "slide_type": "slide"
    }
   },
   "source": [
    "### 2.4 Exercice: compute the potential vorticity (layer) and compare with model output\n",
    "\n",
    "$$PV = \\dfrac{(f + \\zeta)}{h}$$"
   ]
  },
  {
   "cell_type": "code",
   "execution_count": null,
   "id": "13012a08-6746-4af6-8ff5-9bb5ffde8c96",
   "metadata": {
    "slideshow": {
     "slide_type": "slide"
    }
   },
   "outputs": [],
   "source": [
    "h_u = xgrid.interp(ds.h, 'X', boundary='extend')\n",
    "h_q = xgrid.interp(h_u, \"Y\", boundary='extend')\n",
    "\n",
    "pot_vort = (ds.f + rel_vort) / h_q"
   ]
  },
  {
   "cell_type": "code",
   "execution_count": null,
   "id": "551c6abe-7cce-469f-adeb-df0ea4cff5ab",
   "metadata": {
    "slideshow": {
     "slide_type": "slide"
    }
   },
   "outputs": [],
   "source": [
    "fig, axs = plt.subplots(ncols=2,figsize=[8,4])\n",
    "pot_vort.isel(Time=-1, zl=0).plot(ax=axs[0], add_labels=False,\n",
    "                                  vmin=0, vmax=6.e-7, cmap=\"coolwarm\")\n",
    "ds[\"PV\"].isel(Time=-1, zl=0).plot(ax=axs[1], add_labels=False,\n",
    "                                  vmin=0, vmax=6.e-7, cmap=\"coolwarm\")\n",
    "axs[0].set_title(\"$PV$ xgcm\")\n",
    "axs[1].set_title(\"$PV$ model\")"
   ]
  },
  {
   "cell_type": "markdown",
   "id": "7a761b52-33ac-4f81-972e-53456f43babb",
   "metadata": {
    "slideshow": {
     "slide_type": "slide"
    }
   },
   "source": [
    "### 2.5 Timeseries of enstrophy"
   ]
  },
  {
   "cell_type": "code",
   "execution_count": null,
   "id": "85b23cb9-9b69-414d-b4eb-25d56067f315",
   "metadata": {
    "slideshow": {
     "slide_type": "slide"
    }
   },
   "outputs": [],
   "source": [
    "tot_enstrophy = (rel_vort*rel_vort*ds.Aq).sum(dim=[\"xq\", \"yq\"])"
   ]
  },
  {
   "cell_type": "code",
   "execution_count": null,
   "id": "d4831f98-e74c-44bb-9652-21d6018b77b1",
   "metadata": {
    "slideshow": {
     "slide_type": "slide"
    }
   },
   "outputs": [],
   "source": [
    "ax = plt.axes()\n",
    "tot_enstrophy.plot.line(ax=ax, x=\"Time\")\n",
    "ax.grid()\n",
    "ax.set_title(\"Total enstrophy $\\zeta^{2}$ ($m^{2}.s^{-1}$)\")\n",
    "plt.show()"
   ]
  },
  {
   "cell_type": "markdown",
   "id": "934063bc-cea1-462c-97bf-5434da2d9c93",
   "metadata": {
    "slideshow": {
     "slide_type": "slide"
    }
   },
   "source": [
    "### Exercice: repeat for potential vorticity anomaly to initial condition"
   ]
  },
  {
   "cell_type": "code",
   "execution_count": null,
   "id": "6bdfbd66-8406-4f80-966e-26e1ad4006e6",
   "metadata": {
    "slideshow": {
     "slide_type": "slide"
    }
   },
   "outputs": [],
   "source": [
    "tot_PV = (pot_vort*ds.Aq).sum(dim=[\"xq\", \"yq\"])"
   ]
  },
  {
   "cell_type": "code",
   "execution_count": null,
   "id": "0f32d73e-daf2-4cc7-b68f-8ca7f8900123",
   "metadata": {
    "slideshow": {
     "slide_type": "slide"
    }
   },
   "outputs": [],
   "source": [
    "ax = plt.axes()\n",
    "(tot_PV -tot_PV.isel(Time=0)).plot.line(ax=ax, x=\"Time\")\n",
    "ax.grid()\n",
    "ax.set_title(\"Total PV anomaly to initial conditions ($m.s^{-1}$)\")\n",
    "plt.show()"
   ]
  },
  {
   "cell_type": "markdown",
   "id": "57d8dfaa-9a28-4268-be8e-ec98ee3d6adf",
   "metadata": {
    "slideshow": {
     "slide_type": "slide"
    }
   },
   "source": [
    "Homework: read **Hallberg, Ocean Modeling, 2013** (https://www.sciencedirect.com/science/article/pii/S1463500313001601?casa_token=HOdzr7PUELUAAAAA:UKvTM7_FouIiITlAaexi4PrQSVTcvJxdTCCiMd1-WNevquJqVWHtpYlCMxc3mP8Whycwla8ztg) and reproduce the figures from the article"
   ]
  }
 ],
 "metadata": {
  "celltoolbar": "Slideshow",
  "kernelspec": {
   "display_name": "MOM6 tuto",
   "language": "python",
   "name": "mom6tutorial"
  },
  "language_info": {
   "codemirror_mode": {
    "name": "ipython",
    "version": 3
   },
   "file_extension": ".py",
   "mimetype": "text/x-python",
   "name": "python",
   "nbconvert_exporter": "python",
   "pygments_lexer": "ipython3",
   "version": "3.10.6"
  }
 },
 "nbformat": 4,
 "nbformat_minor": 5
}
