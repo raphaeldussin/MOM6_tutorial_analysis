{
 "cells": [
  {
   "cell_type": "markdown",
   "id": "bf5b1e6d-94fc-43d1-a837-9ca280671ba1",
   "metadata": {
    "slideshow": {
     "slide_type": "slide"
    }
   },
   "source": [
    "# CM4 example\n",
    "\n",
    "go to **https://github.com/raphaeldussin**\n",
    "\n",
    "-> repositories, newest repo = MOM6_tutorial_analysis"
   ]
  },
  {
   "cell_type": "code",
   "execution_count": null,
   "id": "b8b6d8d1-41bb-45cd-9498-e330df648f83",
   "metadata": {
    "slideshow": {
     "slide_type": "slide"
    }
   },
   "outputs": [],
   "source": [
    "# import modules\n",
    "from IPython import display\n",
    "import xarray as xr\n",
    "import matplotlib.pyplot as plt\n",
    "import numpy as np\n",
    "import warnings\n",
    "warnings.filterwarnings(\"ignore\")"
   ]
  },
  {
   "cell_type": "markdown",
   "id": "e87afa86-5e06-450f-b5b7-53e08c21c820",
   "metadata": {
    "slideshow": {
     "slide_type": "slide"
    }
   },
   "source": [
    "## Load data from esgf node"
   ]
  },
  {
   "cell_type": "code",
   "execution_count": null,
   "id": "66b40789-42d2-4663-8f72-b58451edeb47",
   "metadata": {
    "slideshow": {
     "slide_type": "slide"
    }
   },
   "outputs": [],
   "source": [
    "urlroot = \"https://esgdata.gfdl.noaa.gov/thredds/dodsC/gfdl_dataroot4\"\n",
    "subdir = \"CMIP/NOAA-GFDL/GFDL-CM4/piControl/r1i1p1f1/Omon\"\n",
    "suffix = \"Omon_GFDL-CM4_piControl_r1i1p1f1_gn_025101-027012.nc\"\n",
    "\n",
    "files = [f\"{urlroot}/{subdir}/thetao/gn/v20180701/thetao_{suffix}\",\n",
    "         f\"{urlroot}/{subdir}/volcello/gn/v20180701/volcello_{suffix}\"]\n",
    "\n",
    "cm4 = xr.open_mfdataset(files, chunks={\"time\": 1})"
   ]
  },
  {
   "cell_type": "code",
   "execution_count": null,
   "id": "f2dbbb8c-2454-4891-8f9f-b1065127b492",
   "metadata": {
    "slideshow": {
     "slide_type": "slide"
    }
   },
   "outputs": [],
   "source": [
    "cm4"
   ]
  },
  {
   "cell_type": "code",
   "execution_count": null,
   "id": "42017e5a-c2af-45c9-acc3-70b703ec8f78",
   "metadata": {
    "slideshow": {
     "slide_type": "slide"
    }
   },
   "outputs": [],
   "source": [
    "# select first record (to save space)\n",
    "ds = cm4.isel(time=0)"
   ]
  },
  {
   "cell_type": "code",
   "execution_count": null,
   "id": "5baf18a7-2fb0-4106-9692-16f587de2433",
   "metadata": {
    "slideshow": {
     "slide_type": "slide"
    }
   },
   "outputs": [],
   "source": [
    "# load data into memory (to save time)\n",
    "_ = ds.load()"
   ]
  },
  {
   "cell_type": "markdown",
   "id": "f61230c5-e202-44b9-843a-3f26dc066728",
   "metadata": {
    "slideshow": {
     "slide_type": "slide"
    }
   },
   "source": [
    "## 1. Plotting"
   ]
  },
  {
   "cell_type": "markdown",
   "id": "54e99cb7-254e-447b-bbdf-4c4c023a3803",
   "metadata": {
    "slideshow": {
     "slide_type": "slide"
    }
   },
   "source": [
    "### 1.1 Matplotlib only"
   ]
  },
  {
   "cell_type": "markdown",
   "id": "e1f46cdd-c41e-454c-9447-407429838c4d",
   "metadata": {
    "slideshow": {
     "slide_type": "slide"
    }
   },
   "source": [
    "The wrong way:\n",
    "\n",
    "1d **x,y** coords are not the true geographical coordinates, merely an approximation."
   ]
  },
  {
   "cell_type": "code",
   "execution_count": null,
   "id": "703269b6-90de-4e89-a09b-530c12fcc262",
   "metadata": {
    "slideshow": {
     "slide_type": "slide"
    }
   },
   "outputs": [],
   "source": [
    "ds[\"thetao\"].sel(lev=2.5).plot(cmap=\"gnuplot2\",\n",
    "                               vmin=-2, vmax=32)\n",
    "plt.show()"
   ]
  },
  {
   "cell_type": "markdown",
   "id": "161a3a5e-2b73-4a5d-b1d5-0040ffb25282",
   "metadata": {
    "slideshow": {
     "slide_type": "slide"
    }
   },
   "source": [
    "The right way:\n",
    "\n",
    "2d **lon/lat** (also named **geolon/geolat**) are the true coordinates, look how much nicer the Arctic looks."
   ]
  },
  {
   "cell_type": "code",
   "execution_count": null,
   "id": "fcb0d9c8-8b08-468f-8f71-8ed81f5735fe",
   "metadata": {
    "slideshow": {
     "slide_type": "slide"
    }
   },
   "outputs": [],
   "source": [
    "ds[\"thetao\"].sel(lev=2.5).plot(cmap=\"gnuplot2\",\n",
    "                               x=\"lon\", y=\"lat\",\n",
    "                               vmin=-2, vmax=32)\n",
    "plt.show()"
   ]
  },
  {
   "cell_type": "markdown",
   "id": "1e47319e-e6d2-4358-affc-3fca79d182c9",
   "metadata": {
    "slideshow": {
     "slide_type": "slide"
    }
   },
   "source": [
    "### 1.2 Cartopy"
   ]
  },
  {
   "cell_type": "code",
   "execution_count": null,
   "id": "970ba0c9-3efb-4333-a95e-da3f8acb2409",
   "metadata": {
    "slideshow": {
     "slide_type": "slide"
    }
   },
   "outputs": [],
   "source": [
    "from cartopy import crs as ccrs"
   ]
  },
  {
   "cell_type": "code",
   "execution_count": null,
   "id": "bc122d49-8240-4e4d-a1d0-634a31a114a1",
   "metadata": {
    "slideshow": {
     "slide_type": "slide"
    }
   },
   "outputs": [],
   "source": [
    "subplot_kws=dict(projection=ccrs.Robinson(),\n",
    "                 facecolor='grey')\n",
    "plt.figure(figsize=[9,6])\n",
    "p = ds[\"thetao\"].sel(lev=2.5).plot(x='lon', y='lat', vmin=-2, vmax=32,\n",
    "                                   cmap=\"gnuplot2\",subplot_kws=subplot_kws,\n",
    "                                   transform=ccrs.PlateCarree(),\n",
    "                                   add_labels=False, add_colorbar=False)\n",
    "# add separate colorbar\n",
    "cb = plt.colorbar(p, ticks=[0,4,8,12,16,20,24,28,32], shrink=0.6)\n",
    "cb.ax.tick_params(labelsize=18)\n",
    "p.axes.gridlines(color='black', alpha=0.5, linestyle='--')\n",
    "plt.show()"
   ]
  },
  {
   "cell_type": "code",
   "execution_count": null,
   "id": "811813d1-cc0b-4408-9261-f0ac6b9d90ee",
   "metadata": {
    "slideshow": {
     "slide_type": "slide"
    }
   },
   "outputs": [],
   "source": [
    "subplot_kws=dict(projection=ccrs.SouthPolarStereo(central_longitude=-120.),\n",
    "                 facecolor='grey')\n",
    "plt.figure(figsize=[6,6])\n",
    "p = ds[\"thetao\"].sel(lev=2.5).plot(x='lon', y='lat',vmin=-2, vmax=24,\n",
    "                                   cmap=\"gnuplot2\", subplot_kws=subplot_kws,\n",
    "                                   transform=ccrs.PlateCarree(),\n",
    "                                   add_labels=False,add_colorbar=False)\n",
    "# add separate colorbar\n",
    "cb = plt.colorbar(p, ticks=[-2,0,2,4,6,8,10,12,14,16,18,20,22,24], shrink=0.75)\n",
    "cb.ax.tick_params(labelsize=18)\n",
    "p.axes.gridlines(color='black', alpha=0.5, linestyle='--')\n",
    "p.axes.set_extent([-300, 60, -40, -90], ccrs.PlateCarree())\n",
    "plt.show()"
   ]
  },
  {
   "cell_type": "markdown",
   "id": "d6ac692e-23a7-42f0-9ed2-4067efa8b4fc",
   "metadata": {
    "slideshow": {
     "slide_type": "slide"
    }
   },
   "source": [
    "### Exercise: use the Miller projection, centered on the Pacific to plot temperature at 1000 meters\n",
    "\n",
    "ref: https://scitools.org.uk/cartopy/docs/v0.15/crs/projections.html"
   ]
  },
  {
   "cell_type": "code",
   "execution_count": null,
   "id": "366d93c7-a7ab-4b90-9b8b-c386460e65ca",
   "metadata": {
    "slideshow": {
     "slide_type": "slide"
    }
   },
   "outputs": [],
   "source": [
    "subplot_kws=dict(projection=ccrs.Miller(central_longitude=-180),\n",
    "                 facecolor='grey')\n",
    "\n",
    "plt.figure(figsize=[9,6])\n",
    "p = ds[\"thetao\"].sel(lev=1000.).plot(x='lon', y='lat',vmin=0, vmax=16,\n",
    "                                     cmap=\"gnuplot2\",subplot_kws=subplot_kws,\n",
    "                                     transform=ccrs.PlateCarree(),\n",
    "                                     add_labels=False,add_colorbar=False)\n",
    "# add separate colorbar\n",
    "cb = plt.colorbar(p, ticks=[0,4,8,12,16], shrink=0.75)\n",
    "cb.ax.tick_params(labelsize=18)\n",
    "p.axes.gridlines(color='black', alpha=0.5, linestyle='--')\n",
    "plt.show()"
   ]
  },
  {
   "cell_type": "markdown",
   "id": "5baf8dc2-5269-40fd-9839-2d31d71e6327",
   "metadata": {
    "slideshow": {
     "slide_type": "slide"
    }
   },
   "source": [
    "## 2. Honey I've shrunk the data\n",
    "\n",
    "### Data reduction with MOM6"
   ]
  },
  {
   "cell_type": "markdown",
   "id": "158c1b16-c9dc-484c-b663-f7dbfe8db87e",
   "metadata": {
    "slideshow": {
     "slide_type": "slide"
    }
   },
   "source": [
    "Model adjust the topography (partial step, online edits, channels,...) so the true volume of a cell is given by **volcello** (area = **areacello**, thickness = **thkcello**)"
   ]
  },
  {
   "cell_type": "code",
   "execution_count": null,
   "id": "858f9870-6957-4f3e-8d37-18c95ab909fe",
   "metadata": {
    "slideshow": {
     "slide_type": "slide"
    }
   },
   "outputs": [],
   "source": [
    "ds[\"volcello\"].isel(lev=20).plot(figsize=[6,3])\n",
    "plt.show()"
   ]
  },
  {
   "cell_type": "markdown",
   "id": "9f36552f-e90d-482e-b91e-c1ae0ef29b30",
   "metadata": {
    "slideshow": {
     "slide_type": "slide"
    }
   },
   "source": [
    "### 3D mean ocean temperature"
   ]
  },
  {
   "cell_type": "code",
   "execution_count": null,
   "id": "b2557d3d-cb36-47bb-9989-8ef7dc420471",
   "metadata": {
    "slideshow": {
     "slide_type": "slide"
    }
   },
   "outputs": [],
   "source": [
    "mean_temp_ocean = ((ds[\"thetao\"] *ds[\"volcello\"]).sum(dim=[\"x\", \"y\", \"lev\"]) /\n",
    "                   ds[\"volcello\"].sum(dim=[\"x\", \"y\", \"lev\"]))"
   ]
  },
  {
   "cell_type": "code",
   "execution_count": null,
   "id": "69e0cf21-5c29-4fb2-8ec8-d27963a60eef",
   "metadata": {
    "slideshow": {
     "slide_type": "slide"
    }
   },
   "outputs": [],
   "source": [
    "print(f\"mean ocean temperature = {mean_temp_ocean.values:.2f}\")"
   ]
  },
  {
   "cell_type": "markdown",
   "id": "9797f65b-22ae-4241-8979-70de397b15e0",
   "metadata": {
    "slideshow": {
     "slide_type": "slide"
    }
   },
   "source": [
    "### Exercise: compute the mean temperature profile"
   ]
  },
  {
   "cell_type": "code",
   "execution_count": null,
   "id": "f0c24633-fffb-496f-aaab-f317abd8d7bb",
   "metadata": {
    "slideshow": {
     "slide_type": "slide"
    }
   },
   "outputs": [],
   "source": [
    "profile_temp_ocean = ((ds[\"thetao\"] *ds[\"volcello\"]).sum(dim=[\"x\", \"y\"]) /\n",
    "                       ds[\"volcello\"].sum(dim=[\"x\", \"y\"]))"
   ]
  },
  {
   "cell_type": "code",
   "execution_count": null,
   "id": "1b537194-bd19-4cd0-b4fd-d0cd0addee1e",
   "metadata": {
    "slideshow": {
     "slide_type": "slide"
    }
   },
   "outputs": [],
   "source": [
    "ax = plt.axes()\n",
    "profile_temp_ocean.plot(ax=ax, y=\"lev\", yincrease=False)\n",
    "ax.grid()\n",
    "plt.show()"
   ]
  },
  {
   "cell_type": "markdown",
   "id": "cdcbb58e-2b05-4ad5-aefa-08c98d7c0034",
   "metadata": {
    "slideshow": {
     "slide_type": "slide"
    }
   },
   "source": [
    "### Basin average"
   ]
  },
  {
   "cell_type": "code",
   "execution_count": null,
   "id": "ab2745f8-645b-4b88-914c-1a8489b28423",
   "metadata": {
    "slideshow": {
     "slide_type": "slide"
    }
   },
   "outputs": [],
   "source": [
    "#!pip install cmip_basins"
   ]
  },
  {
   "cell_type": "code",
   "execution_count": null,
   "id": "bb905b55-5ca0-445e-9e29-5afd071e9159",
   "metadata": {
    "slideshow": {
     "slide_type": "slide"
    }
   },
   "outputs": [],
   "source": [
    "from cmip_basins.basins import generate_basin_codes"
   ]
  },
  {
   "cell_type": "code",
   "execution_count": null,
   "id": "5b98ff5c-8039-4cbd-8849-bbc60645c93d",
   "metadata": {
    "slideshow": {
     "slide_type": "slide"
    }
   },
   "outputs": [],
   "source": [
    "codes = generate_basin_codes(ds, lon=\"lon\", lat=\"lat\")"
   ]
  },
  {
   "cell_type": "code",
   "execution_count": null,
   "id": "8e62bf3e-e526-43d3-8a73-e8bed60ac0b7",
   "metadata": {
    "slideshow": {
     "slide_type": "slide"
    }
   },
   "outputs": [],
   "source": [
    "# create a mask\n",
    "wet = xr.where(ds[\"volcello\"].isel(lev=0).fillna(0.) !=0, 1,0)\n",
    "codes.where(wet != 0).plot(x=\"lon\", y=\"lat\", cmap=\"Paired\")\n",
    "plt.show()"
   ]
  },
  {
   "cell_type": "code",
   "execution_count": null,
   "id": "b213fedf-9573-4a55-8770-a21843c03307",
   "metadata": {
    "slideshow": {
     "slide_type": "slide"
    }
   },
   "outputs": [],
   "source": [
    "# select the Atlantic basin\n",
    "section_Atl = ds.where(codes == 2).mean(dim=\"x\")\n",
    "# compute mean latitude (irregular grid)\n",
    "# and replaces NaNs with min/max value\n",
    "# remember: coords in xarray do not like NaNs\n",
    "lat_Atl = ds[\"lat\"].where(codes == 2).mean(dim=\"x\").bfill(dim=\"y\").ffill(dim=\"y\")\n",
    "# copy back in dataset\n",
    "section_Atl = section_Atl.assign_coords(lat=lat_Atl)"
   ]
  },
  {
   "cell_type": "code",
   "execution_count": null,
   "id": "eb57feed-7b1e-4374-a0bb-2d236953ca97",
   "metadata": {
    "slideshow": {
     "slide_type": "slide"
    }
   },
   "outputs": [],
   "source": [
    "ax1 = plt.axes() ; ax2 = ax1.twinx()\n",
    "lat_Atl[\"j\"] = xr.DataArray(np.arange(len(lat_Atl)), dims=(\"y\"))\n",
    "lat_Atl.plot(ax=ax1, x=\"j\", label=\"lat\", ylim=[-40, 90],\n",
    "             color=\"r\", linestyle=\"--\")\n",
    "lat_Atl.diff(dim=\"y\").plot(ax=ax2, x=\"j\", label=\"increment\",\n",
    "                           color=\"k\", linestyle=\"--\")\n",
    "ax1.grid() ; ax1.legend(loc=2) ; ax2.legend(loc=1) ; plt.show()"
   ]
  },
  {
   "cell_type": "code",
   "execution_count": null,
   "id": "f169cd7b-c60d-42d9-9d20-42a8f2761863",
   "metadata": {
    "slideshow": {
     "slide_type": "slide"
    }
   },
   "outputs": [],
   "source": [
    "section_Atl[\"thetao\"].plot(x=\"lat\", y=\"lev\", yincrease=False,\n",
    "                           cmap=\"gist_ncar\", vmin=0, vmax=28)\n",
    "plt.show()"
   ]
  },
  {
   "cell_type": "markdown",
   "id": "d5a36a92-37c0-4d06-a713-899d510b3c35",
   "metadata": {
    "slideshow": {
     "slide_type": "slide"
    }
   },
   "source": [
    "### Exercise: repeat for Indo-Pacific (hint: 2 basins) "
   ]
  },
  {
   "cell_type": "code",
   "execution_count": null,
   "id": "25b272be-d62a-4a43-9188-3e72069f8356",
   "metadata": {
    "slideshow": {
     "slide_type": "slide"
    }
   },
   "outputs": [],
   "source": [
    "IPac = xr.where(codes == 3, 1, 0) + xr.where(codes == 5, 1, 0)\n",
    "section_IPac = ds.where(IPac).mean(dim=\"x\")\n",
    "lat_IPac = ds[\"lat\"].where(IPac).mean(dim=\"x\").bfill(dim=\"y\").ffill(dim=\"y\")\n",
    "section_IPac = section_IPac.assign_coords(lat=lat_IPac)"
   ]
  },
  {
   "cell_type": "code",
   "execution_count": null,
   "id": "b12e66ce-46cd-47ba-abc1-dd59bad5f8f9",
   "metadata": {
    "slideshow": {
     "slide_type": "slide"
    }
   },
   "outputs": [],
   "source": [
    "ax1 = plt.axes() ; ax2 = ax1.twinx()\n",
    "lat_IPac[\"j\"] = xr.DataArray(np.arange(len(lat_IPac)), dims=(\"y\"))\n",
    "lat_IPac.plot(ax=ax1, x=\"j\", label=\"lat\", ylim=[-40, 90],\n",
    "             color=\"r\", linestyle=\"--\")\n",
    "lat_IPac.diff(dim=\"y\").plot(ax=ax2, x=\"j\", label=\"increment\",\n",
    "                           color=\"k\", linestyle=\"--\")\n",
    "ax1.grid() ; ax1.legend(loc=2) ; ax2.legend(loc=1) ; plt.show()"
   ]
  },
  {
   "cell_type": "code",
   "execution_count": null,
   "id": "eae41bd5-99f4-417b-a2a6-33f808818016",
   "metadata": {
    "slideshow": {
     "slide_type": "slide"
    }
   },
   "outputs": [],
   "source": [
    "section_IPac[\"thetao\"].plot(x=\"lat\", y=\"lev\", yincrease=False,\n",
    "                            cmap=\"gist_ncar\", vmin=0, vmax=28)\n",
    "plt.show()"
   ]
  },
  {
   "cell_type": "markdown",
   "id": "cb266ece-58e6-4b56-bbdc-fd09bdf99405",
   "metadata": {
    "slideshow": {
     "slide_type": "slide"
    }
   },
   "source": [
    "## 3. Understanding the supergrid"
   ]
  },
  {
   "cell_type": "code",
   "execution_count": null,
   "id": "4715a18a-1193-448d-a594-dabe3062e128",
   "metadata": {
    "slideshow": {
     "slide_type": "slide"
    }
   },
   "outputs": [],
   "source": [
    "#!wget -c https://figshare.com/ndownloader/files/37842177 -O ocean_hgrid.nc"
   ]
  },
  {
   "cell_type": "code",
   "execution_count": null,
   "id": "dc2eb0c5-1b0f-42d4-8727-be4640e64d0a",
   "metadata": {
    "slideshow": {
     "slide_type": "slide"
    }
   },
   "outputs": [],
   "source": [
    "hgrid = xr.open_dataset(\"../ocean_hgrid.nc\")"
   ]
  },
  {
   "cell_type": "code",
   "execution_count": null,
   "id": "e313e70b-617b-414a-b03b-e257109cb952",
   "metadata": {
    "slideshow": {
     "slide_type": "slide"
    }
   },
   "outputs": [],
   "source": [
    "hgrid"
   ]
  },
  {
   "cell_type": "markdown",
   "id": "37d12f95-a85a-454e-9433-451a47de14b3",
   "metadata": {
    "slideshow": {
     "slide_type": "slide"
    }
   },
   "source": [
    "- give lon/lat of all staggered points of C-grid\n",
    "- also distances between points and angle from E-W\n",
    "- supergrid is always symmetric"
   ]
  },
  {
   "cell_type": "code",
   "execution_count": null,
   "id": "92d8d7b6-6037-4d6d-b35c-adc10a24ee2f",
   "metadata": {
    "slideshow": {
     "slide_type": "slide"
    }
   },
   "outputs": [],
   "source": [
    "display.Image(\"https://mom6.readthedocs.io/en/main/_images/Arakawa_C_grid.png\")"
   ]
  },
  {
   "cell_type": "code",
   "execution_count": null,
   "id": "be0db285-42c0-473c-b84f-a8c31dafbaa9",
   "metadata": {
    "slideshow": {
     "slide_type": "slide"
    }
   },
   "outputs": [],
   "source": [
    "# cell centers\n",
    "lon_h = hgrid[\"x\"][1::2,1::2]\n",
    "lat_h = hgrid[\"y\"][1::2,1::2]\n",
    "\n",
    "# cell corners\n",
    "lon_q = hgrid[\"x\"][0::2,0::2]\n",
    "lat_q = hgrid[\"y\"][0::2,0::2]"
   ]
  },
  {
   "cell_type": "code",
   "execution_count": null,
   "id": "702812d2-1fb8-4424-b820-6443d500e38f",
   "metadata": {
    "slideshow": {
     "slide_type": "slide"
    }
   },
   "outputs": [],
   "source": [
    "# pick just a few points\n",
    "istart=500\n",
    "jstart=500\n",
    "\n",
    "iend_h=istart+3\n",
    "jend_h=jstart+3\n",
    "\n",
    "iend_q=istart+4\n",
    "jend_q=jstart+4"
   ]
  },
  {
   "cell_type": "code",
   "execution_count": null,
   "id": "4f9ad50e-2e62-4669-87c8-377f763c3e84",
   "metadata": {
    "slideshow": {
     "slide_type": "slide"
    }
   },
   "outputs": [],
   "source": [
    "# plot the staggered grid:\n",
    "\n",
    "plt.figure()\n",
    "# plot the cell center = tracer point:\n",
    "plt.plot(lon_h[jstart:jend_h,istart:iend_h],\n",
    "         lat_h[jstart:jend_h,istart:iend_h], \"rs\", label=\"h point\")\n",
    "# plot the cell corner = vorticity point:\n",
    "plt.plot(lon_q[jstart:jend_q,istart:iend_q],\n",
    "         lat_q[jstart:jend_q,istart:iend_q], \"ko\", label=\"q point\")\n",
    "\n",
    "# trick to plot the grid based on corner points\n",
    "plt.plot(lon_q[jstart:jend_q,istart:iend_q],\n",
    "         lat_q[jstart:jend_q,istart:iend_q], \"k--\")\n",
    "plt.plot(lon_q[jstart:jend_q,istart:iend_q].transpose(),\n",
    "         lat_q[jstart:jend_q,istart:iend_q].transpose(), \"k--\")\n",
    "plt.show()"
   ]
  },
  {
   "cell_type": "markdown",
   "id": "d8f4b2c0-eea8-46a2-a3db-323759a7e8ee",
   "metadata": {
    "slideshow": {
     "slide_type": "slide"
    }
   },
   "source": [
    "### Exercise: add U and V points to the figure"
   ]
  },
  {
   "cell_type": "code",
   "execution_count": null,
   "id": "7e1e7257-8fc5-473d-92f3-04e41a556edc",
   "metadata": {
    "slideshow": {
     "slide_type": "slide"
    }
   },
   "outputs": [],
   "source": [
    "# u points: vertical faces\n",
    "lon_u = hgrid[\"x\"][1::2,0::2]\n",
    "lat_u = hgrid[\"y\"][1::2,0::2]\n",
    "\n",
    "# v points: horizontal faces \n",
    "lon_v = hgrid[\"x\"][0::2,1::2]\n",
    "lat_v = hgrid[\"y\"][0::2,1::2]"
   ]
  },
  {
   "cell_type": "code",
   "execution_count": null,
   "id": "aa2d7ece-4336-4e2b-9d81-6a6a5c314c82",
   "metadata": {
    "slideshow": {
     "slide_type": "slide"
    }
   },
   "outputs": [],
   "source": [
    "plt.figure()\n",
    "# plot the cell center = tracer point:\n",
    "plt.plot(lon_h[jstart:jend_h,istart:iend_h],\n",
    "         lat_h[jstart:jend_h,istart:iend_h], \"rs\", label=\"h point\")\n",
    "# plot the cell corner = vorticity point:\n",
    "plt.plot(lon_q[jstart:jend_q,istart:iend_q],\n",
    "         lat_q[jstart:jend_q,istart:iend_q], \"ko\", label=\"q point\")\n",
    "# plot the vertical faces = u point:\n",
    "plt.plot(lon_u[jstart:jend_h,istart:iend_q],\n",
    "         lat_u[jstart:jend_h,istart:iend_q], \"gs\", label=\"u point\")\n",
    "# plot the horizontal faces = v point:\n",
    "plt.plot(lon_v[jstart:jend_q,istart:iend_h],\n",
    "         lat_v[jstart:jend_q,istart:iend_h], \"go\", label=\"u point\")\n",
    "# trick to plot the grid based on corner points\n",
    "plt.plot(lon_q[jstart:jend_q,istart:iend_q],\n",
    "         lat_q[jstart:jend_q,istart:iend_q], \"k--\")\n",
    "plt.plot(lon_q[jstart:jend_q,istart:iend_q].transpose(),\n",
    "         lat_q[jstart:jend_q,istart:iend_q].transpose(), \"k--\")\n",
    "plt.show()"
   ]
  },
  {
   "cell_type": "markdown",
   "id": "d66acd60-09c3-4404-8e83-9f11d8e0e27e",
   "metadata": {
    "slideshow": {
     "slide_type": "slide"
    }
   },
   "source": [
    "## 4. Remapping with xESMF"
   ]
  },
  {
   "cell_type": "code",
   "execution_count": null,
   "id": "0beb4491-1660-4d4b-8d8e-639f1da90104",
   "metadata": {
    "slideshow": {
     "slide_type": "slide"
    }
   },
   "outputs": [],
   "source": [
    "import xesmf"
   ]
  },
  {
   "cell_type": "markdown",
   "id": "c656e4ed-c344-44fa-b996-1339f0476b04",
   "metadata": {
    "slideshow": {
     "slide_type": "slide"
    }
   },
   "source": [
    "https://xesmf.readthedocs.io/en/latest/"
   ]
  },
  {
   "cell_type": "markdown",
   "id": "6acd0326-d75a-4500-9f37-da25372f907b",
   "metadata": {
    "slideshow": {
     "slide_type": "slide"
    }
   },
   "source": [
    "Create staggered grid from supergrid:"
   ]
  },
  {
   "cell_type": "code",
   "execution_count": null,
   "id": "5275c891-3013-469b-a407-c7e7d4139d61",
   "metadata": {
    "slideshow": {
     "slide_type": "slide"
    }
   },
   "outputs": [],
   "source": [
    "grid_mom = xr.Dataset()\n",
    "\n",
    "# centers\n",
    "grid_mom[\"lon\"] = xr.DataArray(lon_h, dims=(\"ny\", \"nx\"))\n",
    "grid_mom[\"lat\"] = xr.DataArray(lat_h, dims=(\"ny\", \"nx\"))\n",
    "# corners\n",
    "grid_mom[\"lon_b\"] = xr.DataArray(lon_q, dims=(\"nyp\", \"nxp\"))\n",
    "grid_mom[\"lat_b\"] = xr.DataArray(lat_q, dims=(\"nyp\", \"nxp\"))"
   ]
  },
  {
   "cell_type": "markdown",
   "id": "073ba200-8cea-4758-9d18-b2ce9444a1a4",
   "metadata": {
    "slideshow": {
     "slide_type": "slide"
    }
   },
   "source": [
    "Create regular 1 degree grid:"
   ]
  },
  {
   "cell_type": "code",
   "execution_count": null,
   "id": "d4a0c840-9eba-4740-b24f-774269aab6ad",
   "metadata": {
    "slideshow": {
     "slide_type": "slide"
    }
   },
   "outputs": [],
   "source": [
    "grid_1deg = xr.Dataset()\n",
    "\n",
    "# centers\n",
    "grid_1deg[\"lon\"] = xr.DataArray(np.arange(0.5, 360.5, 1),\n",
    "                                dims=(\"nx\"))\n",
    "grid_1deg[\"lat\"] = xr.DataArray(np.arange(-89.5, 90.5, 1),\n",
    "                                dims=(\"ny\"))\n",
    "# corners\n",
    "grid_1deg[\"lon_b\"] = xr.DataArray(np.arange(0., 361., 1),\n",
    "                                dims=(\"nxp\"))\n",
    "grid_1deg[\"lat_b\"] = xr.DataArray(np.arange(-90., 91., 1),\n",
    "                                  dims=(\"nyp\"))"
   ]
  },
  {
   "cell_type": "markdown",
   "id": "09b5875c-aa02-42ce-97ae-b700c9ba374e",
   "metadata": {
    "slideshow": {
     "slide_type": "slide"
    }
   },
   "source": [
    "### Nearest neighbor"
   ]
  },
  {
   "cell_type": "code",
   "execution_count": null,
   "id": "cf6b103b-d6ef-43c2-ad15-f15d1dbaf9cc",
   "metadata": {
    "slideshow": {
     "slide_type": "slide"
    }
   },
   "outputs": [],
   "source": [
    "%%time\n",
    "regrid_nn = xesmf.Regridder(grid_mom, grid_1deg,\n",
    "                            \"nearest_s2d\", periodic=True)"
   ]
  },
  {
   "cell_type": "code",
   "execution_count": null,
   "id": "f49c620c-7f0e-4782-a73e-e43db908e72c",
   "metadata": {
    "slideshow": {
     "slide_type": "slide"
    }
   },
   "outputs": [],
   "source": [
    "sst_1deg_nn = regrid_nn(ds[\"thetao\"].sel(lev=2.5))"
   ]
  },
  {
   "cell_type": "code",
   "execution_count": null,
   "id": "6e98e7d8-cdda-4ebb-8175-47a097a36e91",
   "metadata": {
    "slideshow": {
     "slide_type": "slide"
    }
   },
   "outputs": [],
   "source": [
    "sst_1deg_nn.plot(cmap=\"gist_ncar\", vmin=-2, vmax=32, figsize=[8,4])"
   ]
  },
  {
   "cell_type": "markdown",
   "id": "08f4014c-b08c-440e-8adf-5426f98fb0e1",
   "metadata": {
    "slideshow": {
     "slide_type": "slide"
    }
   },
   "source": [
    "### Please try it at home: Bilinear"
   ]
  },
  {
   "cell_type": "code",
   "execution_count": null,
   "id": "6a576e65-3a36-430d-b89f-796a6e7eb4b4",
   "metadata": {
    "slideshow": {
     "slide_type": "slide"
    }
   },
   "outputs": [],
   "source": [
    "%%time\n",
    "regrid_bilin = xesmf.Regridder(grid_mom, grid_1deg,\n",
    "                               \"bilinear\", periodic=True)"
   ]
  },
  {
   "cell_type": "code",
   "execution_count": null,
   "id": "ff053b93-7355-427f-90c1-e5b2d203ab7d",
   "metadata": {
    "slideshow": {
     "slide_type": "slide"
    }
   },
   "outputs": [],
   "source": [
    "sst_1deg_bilin = regrid_bilin(ds[\"thetao\"].sel(lev=2.5))"
   ]
  },
  {
   "cell_type": "code",
   "execution_count": null,
   "id": "aa0297c5-6313-4f54-9983-117a327eae11",
   "metadata": {
    "slideshow": {
     "slide_type": "slide"
    }
   },
   "outputs": [],
   "source": [
    "sst_1deg_bilin.plot(cmap=\"gist_ncar\", vmin=-2, vmax=32, figsize=[8,4])"
   ]
  },
  {
   "cell_type": "markdown",
   "id": "cf5bf1d5-382c-439d-84f5-021e4f8927ba",
   "metadata": {
    "slideshow": {
     "slide_type": "slide"
    }
   },
   "source": [
    "### Please try it at home: Conservative"
   ]
  },
  {
   "cell_type": "code",
   "execution_count": null,
   "id": "f0c5f02d-6291-4689-bd69-fb50c82ff263",
   "metadata": {
    "slideshow": {
     "slide_type": "slide"
    }
   },
   "outputs": [],
   "source": [
    "%%time\n",
    "regrid_cons = xesmf.Regridder(grid_mom, grid_1deg,\n",
    "                              \"conservative\", periodic=True)"
   ]
  },
  {
   "cell_type": "code",
   "execution_count": null,
   "id": "27716e1d-22d6-4063-96af-d8b1682ab199",
   "metadata": {
    "slideshow": {
     "slide_type": "slide"
    }
   },
   "outputs": [],
   "source": [
    "sst_1deg_cons = regrid_cons(ds[\"thetao\"].sel(lev=2.5))"
   ]
  },
  {
   "cell_type": "code",
   "execution_count": null,
   "id": "d6cb237c-8684-4437-bae9-de75a192ad10",
   "metadata": {
    "slideshow": {
     "slide_type": "slide"
    }
   },
   "outputs": [],
   "source": [
    "#sst_1deg_cons.plot(cmap=\"gist_ncar\", vmin=-2, vmax=32,\n",
    "#                   figsize=[8,4])\n",
    "sst_1deg_cons.where(grid_1deg[\"lat\"] > -80.).plot(cmap=\"gist_ncar\",\n",
    "                                                  vmin=-2, vmax=32,\n",
    "                                                  figsize=[8,4])"
   ]
  },
  {
   "cell_type": "markdown",
   "id": "7c054ebc-777a-479e-90f5-64580902430c",
   "metadata": {
    "slideshow": {
     "slide_type": "slide"
    }
   },
   "source": [
    "## 5. Developping a fun diagnostics: section following the Gulf Stream north wall"
   ]
  },
  {
   "cell_type": "markdown",
   "id": "0363ae45-ee17-47d6-9641-428a69bf825f",
   "metadata": {
    "slideshow": {
     "slide_type": "slide"
    }
   },
   "source": [
    "The gulfstream north wall is defined by the 15 degrees isotherm at 200m"
   ]
  },
  {
   "cell_type": "code",
   "execution_count": null,
   "id": "ce8095f4-89fc-4dfc-8445-7e9340f08a02",
   "metadata": {
    "slideshow": {
     "slide_type": "slide"
    }
   },
   "outputs": [],
   "source": [
    "ax = plt.axes(projection=ccrs.Mercator(),\n",
    "             facecolor=\"grey\")\n",
    "\n",
    "ds[\"thetao\"].sel(lev=200., x=slice(-100,0), y=slice(20,60)).plot(\n",
    "                 ax=ax, cmap=\"gist_ncar\",vmin=5,vmax=30,\n",
    "                 add_colorbar=False)\n",
    "C = ds[\"thetao\"].sel(lev=200., x=slice(-80,-48),\n",
    "                     y=slice(30,60)).plot.contour(ax=ax, levels=[15.],\n",
    "                                                  color=\"k\")"
   ]
  },
  {
   "cell_type": "code",
   "execution_count": null,
   "id": "b4c367d6-bb6e-4066-bd6d-abfe07901746",
   "metadata": {
    "slideshow": {
     "slide_type": "slide"
    }
   },
   "outputs": [],
   "source": [
    "# hack: get points from matplotlib contours\n",
    "locs = C.allsegs[0][0]\n",
    "for segment in range(1, len(C.allsegs[0])):\n",
    "    locs = np.concatenate([locs, C.allsegs[0][segment]], axis=0)\n",
    "\n",
    "# build a dataset from it\n",
    "ds_locs = xr.Dataset()\n",
    "ds_locs['lon'] = xr.DataArray(data=locs[:,0], dims=('stations'))\n",
    "ds_locs['lat'] = xr.DataArray(data=locs[:,1], dims=('stations'))"
   ]
  },
  {
   "cell_type": "code",
   "execution_count": null,
   "id": "f2c69689-f676-4f4b-b5cc-bce6da6607e6",
   "metadata": {
    "slideshow": {
     "slide_type": "slide"
    }
   },
   "outputs": [],
   "source": [
    "plt.plot(ds_locs[\"lon\"], ds_locs[\"lat\"], \"ro\")\n",
    "plt.grid()"
   ]
  },
  {
   "cell_type": "code",
   "execution_count": null,
   "id": "1a5c2a1c-6c0b-4d9f-832a-c0a8e4588eda",
   "metadata": {
    "slideshow": {
     "slide_type": "slide"
    }
   },
   "outputs": [],
   "source": [
    "regrid_northwall = xesmf.Regridder(grid_mom, ds_locs, \"bilinear\",\n",
    "                                   locstream_out=True)"
   ]
  },
  {
   "cell_type": "code",
   "execution_count": null,
   "id": "7274e6d1-7ff0-4ee9-8d87-157c6a8edc9c",
   "metadata": {
    "slideshow": {
     "slide_type": "slide"
    }
   },
   "outputs": [],
   "source": [
    "temp_northwall = regrid_northwall(ds[\"thetao\"])"
   ]
  },
  {
   "cell_type": "code",
   "execution_count": null,
   "id": "991e203f-664d-4a99-81fd-d836faeae24d",
   "metadata": {
    "slideshow": {
     "slide_type": "slide"
    }
   },
   "outputs": [],
   "source": [
    "ax=plt.axes(facecolor=\"k\")\n",
    "levels = [4,5,6,7,8,10,12,14,16,18,20]\n",
    "temp_northwall.plot.contourf(ax=ax, x=\"stations\", y=\"lev\", levels=levels,\n",
    "                             cmap=\"gist_ncar\", ylim=[1000,0], yincrease=False)\n",
    "temp_northwall.plot.contour(ax=ax, x=\"stations\", y=\"lev\", levels=levels,\n",
    "                            colors=\"k\", ylim=[1000,0], yincrease=False)"
   ]
  },
  {
   "cell_type": "code",
   "execution_count": null,
   "id": "7d2ea27b-eec3-4d17-b0d4-2104276f2608",
   "metadata": {
    "slideshow": {
     "slide_type": "slide"
    }
   },
   "outputs": [],
   "source": [
    "temp_northwall[\"lon\"] = ds_locs[\"lon\"]\n",
    "temp_northwall[\"lat\"] = ds_locs[\"lat\"]"
   ]
  },
  {
   "cell_type": "code",
   "execution_count": null,
   "id": "63c79ae6-d8eb-4b2c-9339-7dffcea68d21",
   "metadata": {
    "slideshow": {
     "slide_type": "slide"
    }
   },
   "outputs": [],
   "source": [
    "temp_northwall_sorted = temp_northwall.sortby(\"lon\")\n",
    "\n",
    "ax=plt.axes(facecolor=\"k\")\n",
    "levels = [4,5,6,7,8,10,12,14,16,18,20]\n",
    "temp_northwall_sorted.plot.contourf(ax=ax, x=\"lon\", y=\"lev\", levels=levels,\n",
    "                                    cmap=\"gist_ncar\", ylim=[1000,0], yincrease=False)\n",
    "temp_northwall_sorted.plot.contour(ax=ax, x=\"lon\", y=\"lev\", levels=levels, colors=\"k\",\n",
    "                                   ylim=[1000,0], yincrease=False)"
   ]
  },
  {
   "cell_type": "markdown",
   "id": "a90ea813-dfce-4c0a-a5a2-718921f6f741",
   "metadata": {
    "slideshow": {
     "slide_type": "slide"
    }
   },
   "source": [
    "### Exercise: plot against lattitude"
   ]
  },
  {
   "cell_type": "code",
   "execution_count": null,
   "id": "03e56d04-ec70-4623-843b-ad5abfc45422",
   "metadata": {
    "slideshow": {
     "slide_type": "slide"
    }
   },
   "outputs": [],
   "source": [
    "temp_northwall_sorted = temp_northwall.sortby(\"lat\")\n",
    "\n",
    "ax=plt.axes(facecolor=\"k\")\n",
    "temp_northwall_sorted.plot.contourf(ax=ax, x=\"lat\", y=\"lev\", levels=levels,\n",
    "                                    cmap=\"gist_ncar\", ylim=[1000,0], yincrease=False)\n",
    "temp_northwall_sorted.plot.contour(ax=ax, x=\"lat\", y=\"lev\", levels=levels,\n",
    "                                   colors=\"k\", ylim=[1000,0], yincrease=False)"
   ]
  },
  {
   "cell_type": "markdown",
   "id": "d12b8c8c-eb02-4fa9-a715-a92c1cb0c16d",
   "metadata": {
    "slideshow": {
     "slide_type": "slide"
    }
   },
   "source": [
    "## 6. Fixing missing processors in output"
   ]
  },
  {
   "cell_type": "code",
   "execution_count": null,
   "id": "a600a88f-f24b-4986-85ac-5054af7f8136",
   "metadata": {
    "slideshow": {
     "slide_type": "slide"
    }
   },
   "outputs": [],
   "source": [
    "# get land sea mask\n",
    "mask = xr.where(ds[\"thetao\"].sel(lev=2.5).fillna(9999.) == 9999., 0, 1)\n",
    "\n",
    "# assuming layout of 20x20 gridpoints per processor = 54x72 \n",
    "# domain decomposition\n",
    "ocean_fraction = mask.coarsen(y=54, x=72).mean()\n",
    "\n",
    "# upscale ocean fraction\n",
    "tmp = np.repeat(ocean_fraction.values, 72, axis=-1)\n",
    "tmp2 = np.repeat(tmp, 54, axis=0)\n",
    "ocean_fraction_fullres = xr.DataArray(tmp2, dims=(\"y\", \"x\"))\n",
    "\n",
    "# land processor elimination\n",
    "ds_gruyere = ds.copy()\n",
    "ds_gruyere[\"lon\"] = ds[\"lon\"].where(ocean_fraction_fullres != 0)\n",
    "ds_gruyere[\"lat\"] = ds[\"lat\"].where(ocean_fraction_fullres != 0)"
   ]
  },
  {
   "cell_type": "code",
   "execution_count": null,
   "id": "649a3498",
   "metadata": {
    "slideshow": {
     "slide_type": "slide"
    }
   },
   "outputs": [],
   "source": [
    "plt.pcolormesh(ds_gruyere[\"lon\"])"
   ]
  },
  {
   "cell_type": "code",
   "execution_count": null,
   "id": "f4f3796f-3a97-46d5-88e0-c505c79f711a",
   "metadata": {
    "slideshow": {
     "slide_type": "slide"
    },
    "tags": []
   },
   "outputs": [],
   "source": [
    "ds_gruyere[\"thetao\"].sel(lev=2.5).plot(x=\"lon\", y=\"lat\")"
   ]
  },
  {
   "cell_type": "markdown",
   "id": "b78be0ab-cc76-4d28-9eb0-16e42e0b09c3",
   "metadata": {
    "slideshow": {
     "slide_type": "slide"
    }
   },
   "source": [
    "**how do we fix that ?**"
   ]
  },
  {
   "cell_type": "code",
   "execution_count": null,
   "id": "895cc6b6-f418-4cf1-8232-bbfebe00c0e7",
   "metadata": {
    "slideshow": {
     "slide_type": "slide"
    }
   },
   "outputs": [],
   "source": [
    "def fix_holes(da, dim, cutoff):\n",
    "\n",
    "    return xr.concat([da.isel({dim: slice(0,cutoff)}).bfill(dim),\n",
    "                      da.isel({dim: slice(cutoff, None)}).ffill(dim)],\n",
    "                     dim=dim)"
   ]
  },
  {
   "cell_type": "code",
   "execution_count": null,
   "id": "29039d5d-c280-4a07-8cb4-f8952c1ee844",
   "metadata": {
    "slideshow": {
     "slide_type": "slide"
    }
   },
   "outputs": [],
   "source": [
    "# use southern ocean as cutoff\n",
    "geolon_fixed = fix_holes(ds_gruyere[\"lon\"], \"y\", 200)\n",
    "\n",
    "# use Bering strait\n",
    "geolat_fixed = fix_holes(ds_gruyere[\"lat\"], \"x\", 500)"
   ]
  },
  {
   "cell_type": "code",
   "execution_count": null,
   "id": "32e6fa83-74b3-4c69-933d-3c701e476543",
   "metadata": {
    "slideshow": {
     "slide_type": "slide"
    }
   },
   "outputs": [],
   "source": [
    "ds_gruyere[\"lon\"] = geolon_fixed\n",
    "ds_gruyere[\"lat\"] = geolat_fixed\n",
    "\n",
    "ds_gruyere[\"thetao\"].sel(lev=2.5).plot(x=\"lon\", y=\"lat\",\n",
    "                                       vmin=-2, vmax=32)"
   ]
  },
  {
   "cell_type": "markdown",
   "id": "a4b2e39a-abdb-4258-84df-5db092e1d3ca",
   "metadata": {
    "slideshow": {
     "slide_type": "slide"
    }
   },
   "source": [
    "### Final words"
   ]
  },
  {
   "cell_type": "markdown",
   "id": "abd0f92a-d11b-43e1-a453-c37d0bab41ff",
   "metadata": {
    "slideshow": {
     "slide_type": "slide"
    }
   },
   "source": [
    "There are many other xarray-based tools we have developped, look at github repos from Alistair Adcroft, John Krasing,... and myself ;)"
   ]
  },
  {
   "cell_type": "markdown",
   "id": "9502ab38-f3e5-4970-8d99-bb02cef3fc1a",
   "metadata": {
    "slideshow": {
     "slide_type": "slide"
    }
   },
   "source": [
    "Also check out the cookbook and contribute:\n",
    "    \n",
    "https://mom6-analysiscookbook.readthedocs.io/en/latest/index.html"
   ]
  }
 ],
 "metadata": {
  "celltoolbar": "Slideshow",
  "kernelspec": {
   "display_name": "MOM6 tuto",
   "language": "python",
   "name": "mom6tutorial"
  },
  "language_info": {
   "codemirror_mode": {
    "name": "ipython",
    "version": 3
   },
   "file_extension": ".py",
   "mimetype": "text/x-python",
   "name": "python",
   "nbconvert_exporter": "python",
   "pygments_lexer": "ipython3",
   "version": "3.10.6"
  }
 },
 "nbformat": 4,
 "nbformat_minor": 5
}
